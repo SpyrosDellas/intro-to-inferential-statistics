{
 "cells": [
  {
   "cell_type": "code",
   "execution_count": 25,
   "metadata": {},
   "outputs": [],
   "source": [
    "import numpy as np\n",
    "import pandas as pd\n",
    "from matplotlib import pyplot as plt\n",
    "from scipy import stats as st\n",
    "from statsmodels.stats.multicomp import MultiComparison\n",
    "from statsmodels.stats.libqsturng import psturng, qsturng\n",
    "from sklearn.linear_model import LinearRegression\n",
    "\n",
    "\n",
    "def std_sample_mean(s_population, n):\n",
    "    \"\"\"For a sample of size n, calculate the standard deviation of the sample mean,\n",
    "    given the standard deviation of the population.\n",
    "    \"\"\"\n",
    "    return s_population / np.sqrt(n)\n",
    "\n",
    "\n",
    "def ci(mean, std, confidence):\n",
    "    '''Calculate the confidence interval for the specified normal distribution of N(mean, std)\n",
    "    at given two-sided confidence level.\n",
    "    '''\n",
    "    two_sided_confidence = confidence + (1 - confidence) / 2\n",
    "    std_error = st.norm.ppf(two_sided_confidence)\n",
    "    return mean - std_error * std, mean + std_error * std\n",
    "\n",
    "\n",
    "def ci_t(mean, std, df, confidence):\n",
    "    '''Calculate the confidence interval for the specified t distribution of N(mean, std)\n",
    "    at given two-sided confidence level.\n",
    "    '''\n",
    "    two_sided_confidence = confidence + (1 - confidence) / 2\n",
    "    std_error = st.t.ppf(two_sided_confidence, df)\n",
    "    return mean - std_error * std, mean + std_error * std\n",
    "\n",
    "\n",
    "def r2(t, df):\n",
    "    \"\"\"Return the coefficient of determination given the t-statistic of a t-test and the\n",
    "    degrees of freedom df.\n",
    "    \"\"\"\n",
    "    return t**2 / (t**2 + df)\n",
    "\n",
    "\n",
    "def t_statistic(r, N):\n",
    "    \"\"\"Calculate the t statistic for the specified Pearson's correlation coefficient r and sample size N.\"\"\"\n",
    "    degrees_of_freedom = N - 2\n",
    "    t = r * np.sqrt(degrees_of_freedom / (1 - r**2))\n",
    "    return t\n",
    "\n",
    "\n",
    "def p_value(r, N):\n",
    "    \"\"\"Calculate the p value for the specified Pearson's correlation coefficient r, sample size N and\n",
    "    two-tailed confidence = 0.95.\"\"\"\n",
    "    degrees_of_freedom = N - 2\n",
    "    t = abs(t_statistic(r, N))\n",
    "    return (1 - st.t.cdf(t, degrees_of_freedom)) * 2\n"
   ]
  },
  {
   "cell_type": "markdown",
   "metadata": {},
   "source": [
    "# Lesson 18 - Linear regression"
   ]
  },
  {
   "cell_type": "code",
   "execution_count": 6,
   "metadata": {},
   "outputs": [
    {
     "data": {
      "text/plain": [
       "array([[ 337.  ,   59.5 ],\n",
       "       [2565.  ,  509.5 ],\n",
       "       [ 967.  ,  124.5 ],\n",
       "       [5124.  , 1480.4 ],\n",
       "       [2398.  ,  696.23],\n",
       "       [2586.  ,  559.5 ],\n",
       "       [7412.  , 1481.5 ],\n",
       "       [ 522.  ,  474.5 ],\n",
       "       [1499.  ,  737.5 ]])"
      ]
     },
     "execution_count": 6,
     "metadata": {},
     "output_type": "execute_result"
    }
   ],
   "source": [
    "filename = \"../data/flight_costs.csv\"\n",
    "flights = pd.read_csv(filename).values\n",
    "\n",
    "flights"
   ]
  },
  {
   "cell_type": "code",
   "execution_count": 16,
   "metadata": {},
   "outputs": [
    {
     "name": "stdout",
     "output_type": "stream",
     "text": [
      "0.9090036493537197\n"
     ]
    }
   ],
   "source": [
    "x, y = flights[:, 0], flights[:, 1]\n",
    "\n",
    "r, p = st.pearsonr(x, y)\n",
    "\n",
    "print(r)"
   ]
  },
  {
   "cell_type": "code",
   "execution_count": 17,
   "metadata": {},
   "outputs": [
    {
     "name": "stdout",
     "output_type": "stream",
     "text": [
      "2315.336824548668 508.18700228798104\n"
     ]
    }
   ],
   "source": [
    "sx = x.std(ddof=1)\n",
    "sy = y.std(ddof=1)\n",
    "print(sx, sy)"
   ]
  },
  {
   "cell_type": "code",
   "execution_count": 19,
   "metadata": {},
   "outputs": [
    {
     "name": "stdout",
     "output_type": "stream",
     "text": [
      "0.1995147465094843\n"
     ]
    }
   ],
   "source": [
    "b = r * (sy / sx)\n",
    "\n",
    "print(b)"
   ]
  },
  {
   "cell_type": "code",
   "execution_count": 20,
   "metadata": {},
   "outputs": [
    {
     "name": "stdout",
     "output_type": "stream",
     "text": [
      "2601.1111111111113 680.3477777777778\n"
     ]
    }
   ],
   "source": [
    "mx = x.mean()\n",
    "my = y.mean()\n",
    "print(mx, my)"
   ]
  },
  {
   "cell_type": "code",
   "execution_count": 21,
   "metadata": {},
   "outputs": [
    {
     "name": "stdout",
     "output_type": "stream",
     "text": [
      "161.38775380144136\n"
     ]
    }
   ],
   "source": [
    "a = my - b*mx\n",
    "print(a)"
   ]
  },
  {
   "cell_type": "code",
   "execution_count": 22,
   "metadata": {},
   "outputs": [
    {
     "name": "stdout",
     "output_type": "stream",
     "text": [
      "959.4467398393786\n"
     ]
    }
   ],
   "source": [
    "print(a + b * 4000)"
   ]
  },
  {
   "cell_type": "code",
   "execution_count": 23,
   "metadata": {},
   "outputs": [
    {
     "name": "stdout",
     "output_type": "stream",
     "text": [
      "1697.179041261805\n"
     ]
    }
   ],
   "source": [
    "print((500 - a) / b)"
   ]
  },
  {
   "cell_type": "markdown",
   "metadata": {},
   "source": [
    "# Alternative 1 - `sklearn.linear_model.LinearRegression`"
   ]
  },
  {
   "cell_type": "code",
   "execution_count": 42,
   "metadata": {},
   "outputs": [
    {
     "name": "stdout",
     "output_type": "stream",
     "text": [
      "[[0.19951475]]\n",
      "[161.3877538]\n"
     ]
    }
   ],
   "source": [
    "reg = LinearRegression(fit_intercept=True, normalize=False, copy_X=True)\n",
    "\n",
    "X = x.reshape(-1, 1)\n",
    "Y = y.reshape(-1, 1)\n",
    "reg.fit(X, Y)\n",
    "\n",
    "print(reg.coef_)\n",
    "print(reg.intercept_)"
   ]
  },
  {
   "cell_type": "markdown",
   "metadata": {},
   "source": [
    "# Alternative 2 - `statmodels.api.OLS`"
   ]
  },
  {
   "cell_type": "code",
   "execution_count": 43,
   "metadata": {},
   "outputs": [
    {
     "name": "stdout",
     "output_type": "stream",
     "text": [
      "                            OLS Regression Results                            \n",
      "==============================================================================\n",
      "Dep. Variable:                      y   R-squared:                       0.826\n",
      "Model:                            OLS   Adj. R-squared:                  0.801\n",
      "Method:                 Least Squares   F-statistic:                     33.30\n",
      "Date:                Mon, 14 Dec 2020   Prob (F-statistic):           0.000684\n",
      "Time:                        21:34:28   Log-Likelihood:                -60.441\n",
      "No. Observations:                   9   AIC:                             124.9\n",
      "Df Residuals:                       7   BIC:                             125.3\n",
      "Df Model:                           1                                         \n",
      "Covariance Type:            nonrobust                                         \n",
      "==============================================================================\n",
      "                 coef    std err          t      P>|t|      [0.025      0.975]\n",
      "------------------------------------------------------------------------------\n",
      "const        161.3878    117.411      1.375      0.212    -116.244     439.020\n",
      "x1             0.1995      0.035      5.770      0.001       0.118       0.281\n",
      "==============================================================================\n",
      "Omnibus:                        3.351   Durbin-Watson:                   1.424\n",
      "Prob(Omnibus):                  0.187   Jarque-Bera (JB):                1.162\n",
      "Skew:                           0.414   Prob(JB):                        0.559\n",
      "Kurtosis:                       1.447   Cond. No.                     5.28e+03\n",
      "==============================================================================\n",
      "\n",
      "Notes:\n",
      "[1] Standard Errors assume that the covariance matrix of the errors is correctly specified.\n",
      "[2] The condition number is large, 5.28e+03. This might indicate that there are\n",
      "strong multicollinearity or other numerical problems.\n"
     ]
    },
    {
     "name": "stderr",
     "output_type": "stream",
     "text": [
      "C:\\ProgramData\\Anaconda3\\lib\\site-packages\\scipy\\stats\\stats.py:1604: UserWarning: kurtosistest only valid for n>=20 ... continuing anyway, n=9\n",
      "  \"anyway, n=%i\" % int(n))\n"
     ]
    }
   ],
   "source": [
    "import statsmodels.api as sm\n",
    "\n",
    "\n",
    "# Fit and summarize OLS model\n",
    "X = sm.add_constant(x.reshape(-1, 1))\n",
    "Y = y.reshape(-1, 1)\n",
    "\n",
    "model = sm.OLS(Y, X)\n",
    "results = model.fit()\n",
    "\n",
    "print(results.summary())"
   ]
  },
  {
   "cell_type": "markdown",
   "metadata": {},
   "source": [
    "# Problem Set 15"
   ]
  },
  {
   "cell_type": "code",
   "execution_count": 49,
   "metadata": {},
   "outputs": [
    {
     "data": {
      "text/plain": [
       "array([[116,  60],\n",
       "       [117,  67],\n",
       "       [120,  64],\n",
       "       [  1,   8],\n",
       "       [ 52,  13],\n",
       "       [ 79,  63],\n",
       "       [109,  63],\n",
       "       [ 27,   2],\n",
       "       [ 85,  46],\n",
       "       [ 51,  27],\n",
       "       [ 78,  43],\n",
       "       [ 55,  24],\n",
       "       [ 26,  10],\n",
       "       [ 39,  28],\n",
       "       [107,  56]], dtype=int64)"
      ]
     },
     "execution_count": 49,
     "metadata": {},
     "output_type": "execute_result"
    }
   ],
   "source": [
    "filename = \"../data/vision.csv\"\n",
    "vision = pd.read_csv(filename).values\n",
    "\n",
    "vision"
   ]
  },
  {
   "cell_type": "code",
   "execution_count": 50,
   "metadata": {},
   "outputs": [],
   "source": [
    "x = vision[:, 0].reshape(-1, 1)\n",
    "y = vision[:, 1].reshape(-1, 1)"
   ]
  },
  {
   "cell_type": "code",
   "execution_count": 51,
   "metadata": {},
   "outputs": [
    {
     "name": "stdout",
     "output_type": "stream",
     "text": [
      "                            OLS Regression Results                            \n",
      "==============================================================================\n",
      "Dep. Variable:                      y   R-squared:                       0.873\n",
      "Model:                            OLS   Adj. R-squared:                  0.863\n",
      "Method:                 Least Squares   F-statistic:                     89.54\n",
      "Date:                Mon, 14 Dec 2020   Prob (F-statistic):           3.40e-07\n",
      "Time:                        21:50:49   Log-Likelihood:                -52.586\n",
      "No. Observations:                  15   AIC:                             109.2\n",
      "Df Residuals:                      13   BIC:                             110.6\n",
      "Df Model:                           1                                         \n",
      "Covariance Type:            nonrobust                                         \n",
      "==============================================================================\n",
      "                 coef    std err          t      P>|t|      [0.025      0.975]\n",
      "------------------------------------------------------------------------------\n",
      "const         -2.2487      4.830     -0.466      0.649     -12.683       8.186\n",
      "x1             0.5723      0.060      9.463      0.000       0.442       0.703\n",
      "==============================================================================\n",
      "Omnibus:                        3.329   Durbin-Watson:                   2.946\n",
      "Prob(Omnibus):                  0.189   Jarque-Bera (JB):                1.242\n",
      "Skew:                           0.606   Prob(JB):                        0.537\n",
      "Kurtosis:                       3.720   Cond. No.                         173.\n",
      "==============================================================================\n",
      "\n",
      "Notes:\n",
      "[1] Standard Errors assume that the covariance matrix of the errors is correctly specified.\n"
     ]
    },
    {
     "name": "stderr",
     "output_type": "stream",
     "text": [
      "C:\\ProgramData\\Anaconda3\\lib\\site-packages\\scipy\\stats\\stats.py:1604: UserWarning: kurtosistest only valid for n>=20 ... continuing anyway, n=15\n",
      "  \"anyway, n=%i\" % int(n))\n"
     ]
    }
   ],
   "source": [
    "# Fit and summarize OLS model\n",
    "x = sm.add_constant(x)\n",
    "\n",
    "model = sm.OLS(y, x)\n",
    "results = model.fit()\n",
    "\n",
    "print(results.summary())"
   ]
  },
  {
   "cell_type": "code",
   "execution_count": null,
   "metadata": {},
   "outputs": [],
   "source": []
  }
 ],
 "metadata": {
  "kernelspec": {
   "display_name": "Python 3",
   "language": "python",
   "name": "python3"
  },
  "language_info": {
   "codemirror_mode": {
    "name": "ipython",
    "version": 3
   },
   "file_extension": ".py",
   "mimetype": "text/x-python",
   "name": "python",
   "nbconvert_exporter": "python",
   "pygments_lexer": "ipython3",
   "version": "3.7.9"
  }
 },
 "nbformat": 4,
 "nbformat_minor": 4
}
