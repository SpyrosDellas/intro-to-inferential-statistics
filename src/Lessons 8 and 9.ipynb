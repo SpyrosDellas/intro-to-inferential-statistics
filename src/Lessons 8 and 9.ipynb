{
 "cells": [
  {
   "cell_type": "code",
   "execution_count": 1,
   "metadata": {},
   "outputs": [],
   "source": [
    "import numpy as np\n",
    "import pandas as pd\n",
    "from matplotlib import pyplot as plt\n",
    "from scipy import stats as st\n",
    "\n",
    "\n",
    "def std_sample_mean(s_population, n):\n",
    "    \"\"\"For a sample of size n, calculate the standard deviation of the sample mean,\n",
    "    given the standard deviation of the population.\n",
    "    \"\"\"\n",
    "    return s_population / np.sqrt(n)\n",
    "\n",
    "\n",
    "def ci(mean, std, confidence):\n",
    "    '''Calculate the confidence interval for the specified normal distribution of N(mean, std)\n",
    "    at given two-sided confidence level.\n",
    "    '''\n",
    "    two_sided_confidence = confidence + (1 - confidence) / 2\n",
    "    std_error = st.norm.ppf(two_sided_confidence)\n",
    "    return mean - std_error * std, mean + std_error * std\n",
    "\n",
    "\n",
    "def ci_t(mean, std, df, confidence):\n",
    "    '''Calculate the confidence interval for the specified t distribution of N(mean, std)\n",
    "    at given two-sided confidence level.\n",
    "    '''\n",
    "    two_sided_confidence = confidence + (1 - confidence) / 2\n",
    "    std_error = st.t.ppf(two_sided_confidence, df)\n",
    "    return mean - std_error * std, mean + std_error * std\n"
   ]
  },
  {
   "cell_type": "markdown",
   "metadata": {},
   "source": [
    "## Coefficient of determination r<sup>2</sup>"
   ]
  },
  {
   "cell_type": "code",
   "execution_count": 2,
   "metadata": {},
   "outputs": [],
   "source": [
    "def r2(t, df):\n",
    "    \"\"\"Return the coefficient of determination given the t-statistic of a t-test and the\n",
    "    degrees of freedom df.\n",
    "    \"\"\"\n",
    "    return t**2 / (t**2 + df)"
   ]
  },
  {
   "cell_type": "code",
   "execution_count": 3,
   "metadata": {},
   "outputs": [
    {
     "data": {
      "text/plain": [
       "0.16666666666666666"
      ]
     },
     "execution_count": 3,
     "metadata": {},
     "output_type": "execute_result"
    }
   ],
   "source": [
    "r2(2, 20)"
   ]
  },
  {
   "cell_type": "code",
   "execution_count": 12,
   "metadata": {},
   "outputs": [],
   "source": [
    "mean_p = 151\n",
    "mean_s = 126\n",
    "n = 25\n",
    "df = n - 1\n",
    "std_s = 50"
   ]
  },
  {
   "cell_type": "code",
   "execution_count": 13,
   "metadata": {},
   "outputs": [
    {
     "data": {
      "text/plain": [
       "1.7108820799094275"
      ]
     },
     "execution_count": 13,
     "metadata": {},
     "output_type": "execute_result"
    }
   ],
   "source": [
    "st.t.ppf(.95, df)"
   ]
  },
  {
   "cell_type": "code",
   "execution_count": 14,
   "metadata": {},
   "outputs": [
    {
     "name": "stdout",
     "output_type": "stream",
     "text": [
      "10.0\n"
     ]
    }
   ],
   "source": [
    "std_sm = std_s / np.sqrt(n)\n",
    "\n",
    "print(std_sm)"
   ]
  },
  {
   "cell_type": "code",
   "execution_count": 15,
   "metadata": {},
   "outputs": [
    {
     "name": "stdout",
     "output_type": "stream",
     "text": [
      "-2.5\n"
     ]
    }
   ],
   "source": [
    "z = (mean_s - mean_p) / std_sm\n",
    "print(z)"
   ]
  },
  {
   "cell_type": "code",
   "execution_count": 16,
   "metadata": {},
   "outputs": [
    {
     "name": "stdout",
     "output_type": "stream",
     "text": [
      "-0.5\n"
     ]
    }
   ],
   "source": [
    "cohen_d = (mean_s - mean_p) / std_s\n",
    "print(cohen_d)"
   ]
  },
  {
   "cell_type": "code",
   "execution_count": 17,
   "metadata": {},
   "outputs": [
    {
     "data": {
      "text/plain": [
       "0.2066115702479339"
      ]
     },
     "execution_count": 17,
     "metadata": {},
     "output_type": "execute_result"
    }
   ],
   "source": [
    "r2(-2.5, df)"
   ]
  },
  {
   "cell_type": "code",
   "execution_count": 18,
   "metadata": {},
   "outputs": [
    {
     "data": {
      "text/plain": [
       "(105.36101438371979, 146.6389856162802)"
      ]
     },
     "execution_count": 18,
     "metadata": {},
     "output_type": "execute_result"
    }
   ],
   "source": [
    "ci_t(mean_s, std_sm, df, .95)"
   ]
  },
  {
   "cell_type": "code",
   "execution_count": 19,
   "metadata": {},
   "outputs": [
    {
     "data": {
      "text/plain": [
       "20.639999999999986"
      ]
     },
     "execution_count": 19,
     "metadata": {},
     "output_type": "execute_result"
    }
   ],
   "source": [
    "146.64-126"
   ]
  },
  {
   "cell_type": "code",
   "execution_count": 33,
   "metadata": {},
   "outputs": [],
   "source": [
    "pre = np.array([8, 7, 6, 9, 10, 5, 7, 11, 8, 7])\n",
    "post = np.array([5, 6, 4, 6, 5, 3, 2, 9, 4, 4])\n",
    "diff = post - pre\n",
    "\n",
    "n = len(pre)\n",
    "df = n - 1"
   ]
  },
  {
   "cell_type": "code",
   "execution_count": 34,
   "metadata": {},
   "outputs": [],
   "source": [
    "mean_pre = pre.mean()\n",
    "mean_post = post.mean()\n",
    "mean_diff = diff.mean()"
   ]
  },
  {
   "cell_type": "code",
   "execution_count": 35,
   "metadata": {},
   "outputs": [
    {
     "name": "stdout",
     "output_type": "stream",
     "text": [
      "7.8 4.8 -3.0\n"
     ]
    }
   ],
   "source": [
    "print(mean_pre, mean_post, mean_diff)"
   ]
  },
  {
   "cell_type": "code",
   "execution_count": 36,
   "metadata": {},
   "outputs": [
    {
     "data": {
      "text/plain": [
       "1.8331129326536335"
      ]
     },
     "execution_count": 36,
     "metadata": {},
     "output_type": "execute_result"
    }
   ],
   "source": [
    "st.t.ppf(.95, df)"
   ]
  },
  {
   "cell_type": "code",
   "execution_count": 32,
   "metadata": {},
   "outputs": [],
   "source": [
    "std_diff = 1.33"
   ]
  },
  {
   "cell_type": "code",
   "execution_count": 38,
   "metadata": {},
   "outputs": [
    {
     "name": "stdout",
     "output_type": "stream",
     "text": [
      "0.42058292880239445\n"
     ]
    }
   ],
   "source": [
    "std_diffm = std_diff / np.sqrt(n)\n",
    "print(std_diffm)"
   ]
  },
  {
   "cell_type": "code",
   "execution_count": 39,
   "metadata": {},
   "outputs": [
    {
     "name": "stdout",
     "output_type": "stream",
     "text": [
      "-7.132957128199352\n"
     ]
    }
   ],
   "source": [
    "z = mean_diff / std_diffm\n",
    "print(z)"
   ]
  },
  {
   "cell_type": "code",
   "execution_count": 40,
   "metadata": {},
   "outputs": [
    {
     "name": "stdout",
     "output_type": "stream",
     "text": [
      "-2.255639097744361\n"
     ]
    }
   ],
   "source": [
    "cohen_d = mean_diff / std_diff\n",
    "print(cohen_d)"
   ]
  },
  {
   "cell_type": "code",
   "execution_count": 41,
   "metadata": {},
   "outputs": [
    {
     "data": {
      "text/plain": [
       "(-3.9514246849169212, -2.0485753150830788)"
      ]
     },
     "execution_count": 41,
     "metadata": {},
     "output_type": "execute_result"
    }
   ],
   "source": [
    "ci_t(mean_diff, std_diffm, df, .95)"
   ]
  },
  {
   "cell_type": "code",
   "execution_count": null,
   "metadata": {},
   "outputs": [],
   "source": []
  }
 ],
 "metadata": {
  "kernelspec": {
   "display_name": "Python 3",
   "language": "python",
   "name": "python3"
  },
  "language_info": {
   "codemirror_mode": {
    "name": "ipython",
    "version": 3
   },
   "file_extension": ".py",
   "mimetype": "text/x-python",
   "name": "python",
   "nbconvert_exporter": "python",
   "pygments_lexer": "ipython3",
   "version": "3.7.9"
  }
 },
 "nbformat": 4,
 "nbformat_minor": 4
}
