{
 "cells": [
  {
   "cell_type": "code",
   "execution_count": 3,
   "metadata": {},
   "outputs": [],
   "source": [
    "import numpy as np\n",
    "import pandas as pd\n",
    "from matplotlib import pyplot as plt\n",
    "from scipy import stats as st\n",
    "\n",
    "\n",
    "def std_sample_mean(s_population, n):\n",
    "    \"\"\"For a sample of size n, calculate the standard deviation of the sample mean,\n",
    "    given the standard deviation of the population.\n",
    "    \"\"\"\n",
    "    return s_population / np.sqrt(n)\n",
    "\n",
    "\n",
    "def ci(mean, std, confidence):\n",
    "    '''Calculate the confidence interval for the specified normal distribution of N(mean, std)\n",
    "    at given two-sided confidence level.\n",
    "    '''\n",
    "    two_sided_confidence = confidence + (1 - confidence) / 2\n",
    "    std_error = st.norm.ppf(two_sided_confidence)\n",
    "    return mean - std_error * std, mean + std_error * std\n",
    "\n",
    "\n",
    "def ci_t(mean, std, df, confidence):\n",
    "    '''Calculate the confidence interval for the specified t distribution of N(mean, std)\n",
    "    at given two-sided confidence level.\n",
    "    '''\n",
    "    two_sided_confidence = confidence + (1 - confidence) / 2\n",
    "    std_error = st.t.ppf(two_sided_confidence, df)\n",
    "    return mean - std_error * std, mean + std_error * std\n",
    "\n",
    "\n",
    "def r2(t, df):\n",
    "    \"\"\"Return the coefficient of determination given the t-statistic of a t-test and the\n",
    "    degrees of freedom df.\n",
    "    \"\"\"\n",
    "    return t**2 / (t**2 + df)\n"
   ]
  },
  {
   "cell_type": "markdown",
   "metadata": {},
   "source": [
    "## t-test of two independent samples"
   ]
  },
  {
   "cell_type": "code",
   "execution_count": 32,
   "metadata": {},
   "outputs": [
    {
     "data": {
      "text/plain": [
       "Average meal prices at restaurants in Gettysburg ($)      int64\n",
       "Average meal prices at restaurants in Wilma ($)         float64\n",
       "dtype: object"
      ]
     },
     "execution_count": 32,
     "metadata": {},
     "output_type": "execute_result"
    }
   ],
   "source": [
    "filename = \"../data/Food Prices.csv\"\n",
    "food = pd.read_csv(filename)\n",
    "\n",
    "food.dtypes"
   ]
  },
  {
   "cell_type": "code",
   "execution_count": 33,
   "metadata": {},
   "outputs": [
    {
     "data": {
      "text/html": [
       "<div>\n",
       "<style scoped>\n",
       "    .dataframe tbody tr th:only-of-type {\n",
       "        vertical-align: middle;\n",
       "    }\n",
       "\n",
       "    .dataframe tbody tr th {\n",
       "        vertical-align: top;\n",
       "    }\n",
       "\n",
       "    .dataframe thead th {\n",
       "        text-align: right;\n",
       "    }\n",
       "</style>\n",
       "<table border=\"1\" class=\"dataframe\">\n",
       "  <thead>\n",
       "    <tr style=\"text-align: right;\">\n",
       "      <th></th>\n",
       "      <th>Average meal prices at restaurants in Gettysburg ($)</th>\n",
       "      <th>Average meal prices at restaurants in Wilma ($)</th>\n",
       "    </tr>\n",
       "  </thead>\n",
       "  <tbody>\n",
       "    <tr>\n",
       "      <th>0</th>\n",
       "      <td>9</td>\n",
       "      <td>11.0</td>\n",
       "    </tr>\n",
       "    <tr>\n",
       "      <th>1</th>\n",
       "      <td>5</td>\n",
       "      <td>10.0</td>\n",
       "    </tr>\n",
       "    <tr>\n",
       "      <th>2</th>\n",
       "      <td>6</td>\n",
       "      <td>12.0</td>\n",
       "    </tr>\n",
       "    <tr>\n",
       "      <th>3</th>\n",
       "      <td>11</td>\n",
       "      <td>9.0</td>\n",
       "    </tr>\n",
       "    <tr>\n",
       "      <th>4</th>\n",
       "      <td>8</td>\n",
       "      <td>8.0</td>\n",
       "    </tr>\n",
       "  </tbody>\n",
       "</table>\n",
       "</div>"
      ],
      "text/plain": [
       "   Average meal prices at restaurants in Gettysburg ($)  \\\n",
       "0                                                  9      \n",
       "1                                                  5      \n",
       "2                                                  6      \n",
       "3                                                 11      \n",
       "4                                                  8      \n",
       "\n",
       "   Average meal prices at restaurants in Wilma ($)  \n",
       "0                                             11.0  \n",
       "1                                             10.0  \n",
       "2                                             12.0  \n",
       "3                                              9.0  \n",
       "4                                              8.0  "
      ]
     },
     "execution_count": 33,
     "metadata": {},
     "output_type": "execute_result"
    }
   ],
   "source": [
    "food.head()"
   ]
  },
  {
   "cell_type": "code",
   "execution_count": 34,
   "metadata": {},
   "outputs": [
    {
     "name": "stdout",
     "output_type": "stream",
     "text": [
      "18 14\n",
      "8.944444444444445 11.142857142857142\n",
      "2.6451336499586917 2.1788191176076888\n"
     ]
    }
   ],
   "source": [
    "m_getty = food['Average meal prices at restaurants in Gettysburg ($)'].mean()\n",
    "m_wilma = food['Average meal prices at restaurants in Wilma ($)'].mean()\n",
    "\n",
    "n_getty = food['Average meal prices at restaurants in Gettysburg ($)'].dropna().count()\n",
    "n_wilma = food['Average meal prices at restaurants in Wilma ($)'].dropna().count()\n",
    "\n",
    "std_getty = food['Average meal prices at restaurants in Gettysburg ($)'].std()\n",
    "std_wilma = food['Average meal prices at restaurants in Wilma ($)'].std()\n",
    "\n",
    "print(n_getty, n_wilma)\n",
    "print(m_getty, m_wilma)\n",
    "print(std_getty, std_wilma)"
   ]
  },
  {
   "cell_type": "code",
   "execution_count": 46,
   "metadata": {},
   "outputs": [],
   "source": [
    "m_diff = m_getty - m_wilma"
   ]
  },
  {
   "cell_type": "code",
   "execution_count": 47,
   "metadata": {},
   "outputs": [
    {
     "name": "stdout",
     "output_type": "stream",
     "text": [
      "0.8531100847677227\n"
     ]
    }
   ],
   "source": [
    "std_m_diff = np.sqrt(std_getty**2 / n_getty + std_wilma**2 / n_wilma)\n",
    "print(std_m_diff)"
   ]
  },
  {
   "cell_type": "code",
   "execution_count": 48,
   "metadata": {},
   "outputs": [
    {
     "name": "stdout",
     "output_type": "stream",
     "text": [
      "-2.5769390582356815\n"
     ]
    }
   ],
   "source": [
    "t = m_diff / std_m_diff\n",
    "print(t)"
   ]
  },
  {
   "cell_type": "code",
   "execution_count": 49,
   "metadata": {},
   "outputs": [
    {
     "name": "stdout",
     "output_type": "stream",
     "text": [
      "2.0422724563012373\n"
     ]
    }
   ],
   "source": [
    "df = n_getty + n_wilma - 2\n",
    "t_critical = st.t.ppf(.975, df)\n",
    "print(t_critical)"
   ]
  },
  {
   "cell_type": "code",
   "execution_count": 50,
   "metadata": {},
   "outputs": [
    {
     "name": "stdout",
     "output_type": "stream",
     "text": [
      "0.01512946515275131\n"
     ]
    }
   ],
   "source": [
    "p = st.t.cdf(t, df) * 2\n",
    "print(p)"
   ]
  },
  {
   "cell_type": "markdown",
   "metadata": {},
   "source": [
    "### Conclusion: Since p < .05 we reject the null hypothesis that the two sample means are the same"
   ]
  },
  {
   "cell_type": "markdown",
   "metadata": {},
   "source": [
    "### Alternatively we can use `scipy.stats.ttest_ind()` to obtain the same result"
   ]
  },
  {
   "cell_type": "code",
   "execution_count": 51,
   "metadata": {},
   "outputs": [
    {
     "name": "stdout",
     "output_type": "stream",
     "text": [
      "-2.576939058235681 0.015153519382495312\n"
     ]
    }
   ],
   "source": [
    "t, p = st.ttest_ind(food['Average meal prices at restaurants in Gettysburg ($)'], \\\n",
    "                    food['Average meal prices at restaurants in Wilma ($)'].dropna(), equal_var=False)\n",
    "print(t, p)"
   ]
  },
  {
   "cell_type": "markdown",
   "metadata": {},
   "source": [
    "## Another t-test of two independent samples"
   ]
  },
  {
   "cell_type": "code",
   "execution_count": 55,
   "metadata": {},
   "outputs": [],
   "source": [
    "m_a = 33.5\n",
    "m_b = 31.2\n",
    "\n",
    "n_a = 6\n",
    "n_b = 5\n",
    "df = n_a + n_b - 2\n",
    "\n",
    "std_a = 8.89\n",
    "std_b = 10.16"
   ]
  },
  {
   "cell_type": "code",
   "execution_count": 58,
   "metadata": {},
   "outputs": [],
   "source": [
    "m_diff = m_a - m_b\n",
    "std_diff = np.sqrt(std_a**2 / n_a + std_b**2 / n_b)"
   ]
  },
  {
   "cell_type": "code",
   "execution_count": 59,
   "metadata": {},
   "outputs": [
    {
     "name": "stdout",
     "output_type": "stream",
     "text": [
      "0.39551177686805394\n"
     ]
    }
   ],
   "source": [
    "t = m_diff / std_diff\n",
    "print(t)"
   ]
  },
  {
   "cell_type": "code",
   "execution_count": 60,
   "metadata": {},
   "outputs": [
    {
     "name": "stdout",
     "output_type": "stream",
     "text": [
      "2.2621571627409915\n"
     ]
    }
   ],
   "source": [
    "t_critical = st.t.ppf(.975, df)\n",
    "print(t_critical)"
   ]
  },
  {
   "cell_type": "markdown",
   "metadata": {},
   "source": [
    "## Another t-test of two independent samples"
   ]
  },
  {
   "cell_type": "code",
   "execution_count": 66,
   "metadata": {},
   "outputs": [
    {
     "data": {
      "text/plain": [
       "shoes_females    float64\n",
       "shoes_males        int64\n",
       "dtype: object"
      ]
     },
     "execution_count": 66,
     "metadata": {},
     "output_type": "execute_result"
    }
   ],
   "source": [
    "filename = \"../data/shoes.csv\"\n",
    "shoes = pd.read_csv(filename)\n",
    "\n",
    "shoes.dtypes"
   ]
  },
  {
   "cell_type": "code",
   "execution_count": 67,
   "metadata": {},
   "outputs": [
    {
     "data": {
      "text/html": [
       "<div>\n",
       "<style scoped>\n",
       "    .dataframe tbody tr th:only-of-type {\n",
       "        vertical-align: middle;\n",
       "    }\n",
       "\n",
       "    .dataframe tbody tr th {\n",
       "        vertical-align: top;\n",
       "    }\n",
       "\n",
       "    .dataframe thead th {\n",
       "        text-align: right;\n",
       "    }\n",
       "</style>\n",
       "<table border=\"1\" class=\"dataframe\">\n",
       "  <thead>\n",
       "    <tr style=\"text-align: right;\">\n",
       "      <th></th>\n",
       "      <th>shoes_females</th>\n",
       "      <th>shoes_males</th>\n",
       "    </tr>\n",
       "  </thead>\n",
       "  <tbody>\n",
       "    <tr>\n",
       "      <th>0</th>\n",
       "      <td>90.0</td>\n",
       "      <td>4</td>\n",
       "    </tr>\n",
       "    <tr>\n",
       "      <th>1</th>\n",
       "      <td>28.0</td>\n",
       "      <td>120</td>\n",
       "    </tr>\n",
       "    <tr>\n",
       "      <th>2</th>\n",
       "      <td>30.0</td>\n",
       "      <td>5</td>\n",
       "    </tr>\n",
       "    <tr>\n",
       "      <th>3</th>\n",
       "      <td>10.0</td>\n",
       "      <td>3</td>\n",
       "    </tr>\n",
       "    <tr>\n",
       "      <th>4</th>\n",
       "      <td>5.0</td>\n",
       "      <td>10</td>\n",
       "    </tr>\n",
       "  </tbody>\n",
       "</table>\n",
       "</div>"
      ],
      "text/plain": [
       "   shoes_females  shoes_males\n",
       "0           90.0            4\n",
       "1           28.0          120\n",
       "2           30.0            5\n",
       "3           10.0            3\n",
       "4            5.0           10"
      ]
     },
     "execution_count": 67,
     "metadata": {},
     "output_type": "execute_result"
    }
   ],
   "source": [
    "shoes.head()"
   ]
  },
  {
   "cell_type": "code",
   "execution_count": 68,
   "metadata": {},
   "outputs": [
    {
     "name": "stdout",
     "output_type": "stream",
     "text": [
      "11 7\n",
      "18.0 33.142857142857146\n",
      "34.27243790569909 31.360423952430722\n"
     ]
    }
   ],
   "source": [
    "m_m = shoes['shoes_males'].mean()\n",
    "m_f = shoes['shoes_females'].mean()\n",
    "\n",
    "n_m = shoes['shoes_males'].count()\n",
    "n_f = shoes['shoes_females'].count()\n",
    "df = n_m + n_f - 2\n",
    "\n",
    "std_m = shoes['shoes_males'].std()\n",
    "std_f = shoes['shoes_females'].std()\n",
    "\n",
    "print(n_m, n_f)\n",
    "print(m_m, m_f)\n",
    "print(std_m, std_f)"
   ]
  },
  {
   "cell_type": "code",
   "execution_count": 69,
   "metadata": {},
   "outputs": [
    {
     "name": "stdout",
     "output_type": "stream",
     "text": [
      "15.725088769901236\n"
     ]
    }
   ],
   "source": [
    "m_diff = m_f - m_m\n",
    "std_m_diff = np.sqrt(std_m**2 / n_m + std_f**2 / n_f)\n",
    "\n",
    "print(std_m_diff)"
   ]
  },
  {
   "cell_type": "code",
   "execution_count": 70,
   "metadata": {},
   "outputs": [
    {
     "name": "stdout",
     "output_type": "stream",
     "text": [
      "0.9629743503795974\n"
     ]
    }
   ],
   "source": [
    "t = m_diff / std_m_diff\n",
    "print(t)"
   ]
  },
  {
   "cell_type": "code",
   "execution_count": 71,
   "metadata": {},
   "outputs": [
    {
     "name": "stdout",
     "output_type": "stream",
     "text": [
      "2.1199052992210112\n"
     ]
    }
   ],
   "source": [
    "t_critical = st.t.ppf(.975, df)\n",
    "print(t_critical)"
   ]
  },
  {
   "cell_type": "code",
   "execution_count": 72,
   "metadata": {},
   "outputs": [
    {
     "data": {
      "text/plain": [
       "(-18.192841871177293, 48.478556156891585)"
      ]
     },
     "execution_count": 72,
     "metadata": {},
     "output_type": "execute_result"
    }
   ],
   "source": [
    "ci_t(m_diff, std_m_diff, df, .95)"
   ]
  },
  {
   "cell_type": "code",
   "execution_count": 73,
   "metadata": {},
   "outputs": [
    {
     "data": {
      "text/plain": [
       "0.05478242400037163"
      ]
     },
     "execution_count": 73,
     "metadata": {},
     "output_type": "execute_result"
    }
   ],
   "source": [
    "r2(t, df)"
   ]
  },
  {
   "cell_type": "code",
   "execution_count": 78,
   "metadata": {},
   "outputs": [
    {
     "data": {
      "text/plain": [
       "2.5705818366147395"
      ]
     },
     "execution_count": 78,
     "metadata": {},
     "output_type": "execute_result"
    }
   ],
   "source": [
    "st.t.ppf(.975, 5)"
   ]
  },
  {
   "cell_type": "markdown",
   "metadata": {},
   "source": [
    "## Problem Set 11"
   ]
  },
  {
   "cell_type": "code",
   "execution_count": 89,
   "metadata": {},
   "outputs": [
    {
     "name": "stdout",
     "output_type": "stream",
     "text": [
      "t = 15.253\n",
      "t critical = 1.683\n"
     ]
    }
   ],
   "source": [
    "n_x = 18\n",
    "n_y = 25\n",
    "\n",
    "df_x = n_x - 1\n",
    "df_y = n_y - 1\n",
    "df_diff = df_x + df_y\n",
    "\n",
    "m_x = 3.8\n",
    "m_y = 2.1\n",
    "m_diff = m_x - m_y\n",
    "\n",
    "var_pooled = 0.13\n",
    "\n",
    "std_m_diff = np.sqrt(var_pooled / n_x + var_pooled / n_y)\n",
    "\n",
    "t_critical = st.t.ppf(.95, df_diff)\n",
    "\n",
    "t = m_diff / std_m_diff\n",
    "\n",
    "print(\"t = {:.3f}\".format(t))\n",
    "print(\"t critical = {:.3f}\".format(t_critical))\n"
   ]
  },
  {
   "cell_type": "code",
   "execution_count": 90,
   "metadata": {},
   "outputs": [
    {
     "name": "stdout",
     "output_type": "stream",
     "text": [
      "t = 2.309\n",
      "t critical = 1.982\n"
     ]
    }
   ],
   "source": [
    "n_x = 52\n",
    "n_y = 57\n",
    "\n",
    "df_x = n_x - 1\n",
    "df_y = n_y - 1\n",
    "df_diff = df_x + df_y\n",
    "\n",
    "m_x = 12\n",
    "m_y = 8\n",
    "m_diff = m_x - m_y\n",
    "\n",
    "var_pooled = 5.1\n",
    "\n",
    "std_m_diff = np.sqrt(var_pooled / n_x + var_pooled / n_y)\n",
    "\n",
    "t_critical = st.t.ppf(.975, df_diff)\n",
    "\n",
    "t = (m_diff - 3) / std_m_diff\n",
    "\n",
    "print(\"t = {:.3f}\".format(t))\n",
    "print(\"t critical = {:.3f}\".format(t_critical))\n"
   ]
  },
  {
   "cell_type": "code",
   "execution_count": 92,
   "metadata": {},
   "outputs": [
    {
     "name": "stdout",
     "output_type": "stream",
     "text": [
      "pooled variance = 1.889\n",
      "t = 31.555\n",
      "t critical = 2.587\n"
     ]
    }
   ],
   "source": [
    "n_x = 207\n",
    "n_y = 220\n",
    "\n",
    "df_x = n_x - 1\n",
    "df_y = n_y - 1\n",
    "df_diff = df_x + df_y\n",
    "\n",
    "m_x = 35.8\n",
    "m_y = 31.6\n",
    "m_diff = m_x - m_y\n",
    "\n",
    "ss1 = 481\n",
    "ss2 = 322\n",
    "var_pooled = (ss1 + ss2) / df_diff\n",
    "\n",
    "std_m_diff = np.sqrt(var_pooled / n_x + var_pooled / n_y)\n",
    "\n",
    "t_critical = st.t.ppf(.995, df_diff)\n",
    "\n",
    "t = m_diff / std_m_diff\n",
    "\n",
    "print(\"pooled variance = {:.3f}\".format(var_pooled))\n",
    "print(\"t = {:.3f}\".format(t))\n",
    "print(\"t critical = {:.3f}\".format(t_critical))\n"
   ]
  },
  {
   "cell_type": "code",
   "execution_count": 96,
   "metadata": {},
   "outputs": [
    {
     "data": {
      "text/plain": [
       "1.7138715277470473"
      ]
     },
     "execution_count": 96,
     "metadata": {},
     "output_type": "execute_result"
    }
   ],
   "source": [
    "st.t.ppf(.95, 23)"
   ]
  },
  {
   "cell_type": "code",
   "execution_count": 104,
   "metadata": {},
   "outputs": [
    {
     "name": "stdout",
     "output_type": "stream",
     "text": [
      "pooled variance = 10.857\n",
      "t = -4.072\n",
      "t critical = 3.499\n",
      "58.0 18.0\n",
      "2.210365192839022\n"
     ]
    }
   ],
   "source": [
    "x = np.array([2, -3, 5, 4, 7,])\n",
    "y = np.array([10, 13, 15, 10])\n",
    "\n",
    "ss1 = np.sum((x - x.mean())**2)\n",
    "ss2 = np.sum((y - y.mean())**2)\n",
    "\n",
    "m_diff = x.mean() - y.mean()\n",
    "\n",
    "n_x = len(x)\n",
    "n_y = len(y)\n",
    "df_diff = n_x + n_y - 2\n",
    "\n",
    "var_pooled = (ss1 + ss2) / df_diff\n",
    "\n",
    "std_m_diff = np.sqrt(var_pooled / n_x + var_pooled / n_y)\n",
    "\n",
    "t = m_diff / std_m_diff\n",
    "\n",
    "t_critical = st.t.ppf(.995, df_diff)\n",
    "\n",
    "print(\"pooled variance = {:.3f}\".format(var_pooled))\n",
    "print(\"t = {:.3f}\".format(t))\n",
    "print(\"t critical = {:.3f}\".format(t_critical))\n",
    "\n",
    "print(ss1, ss2)\n",
    "print(std_m_diff)"
   ]
  },
  {
   "cell_type": "code",
   "execution_count": 108,
   "metadata": {},
   "outputs": [
    {
     "name": "stdout",
     "output_type": "stream",
     "text": [
      "t = 3.191\n",
      "t critical = 2.101\n",
      "Cohen's d = 1.288\n",
      "Coefficient of determination r^2 = 0.361\n"
     ]
    }
   ],
   "source": [
    "n_x = 10\n",
    "n_y = 10\n",
    "\n",
    "df_x = n_x - 1\n",
    "df_y = n_y - 1\n",
    "df_diff = df_x + df_y\n",
    "\n",
    "m_x = 10\n",
    "m_y = 7\n",
    "m_diff = m_x - m_y\n",
    "\n",
    "std_m_diff = .94\n",
    "\n",
    "t_critical = st.t.ppf(.975, df_diff)\n",
    "\n",
    "t = m_diff / std_m_diff\n",
    "\n",
    "print(\"t = {:.3f}\".format(t))\n",
    "print(\"t critical = {:.3f}\".format(t_critical))\n",
    "\n",
    "std_pooled = 2.33\n",
    "cohen_d = m_diff / std_pooled\n",
    "print(\"Cohen's d = {:.3f}\".format(cohen_d))\n",
    "\n",
    "r_2 = r2(t, df_diff)\n",
    "print(\"Coefficient of determination r^2 = {:.3f}\".format(r_2))"
   ]
  },
  {
   "cell_type": "code",
   "execution_count": null,
   "metadata": {},
   "outputs": [],
   "source": []
  }
 ],
 "metadata": {
  "kernelspec": {
   "display_name": "Python 3",
   "language": "python",
   "name": "python3"
  },
  "language_info": {
   "codemirror_mode": {
    "name": "ipython",
    "version": 3
   },
   "file_extension": ".py",
   "mimetype": "text/x-python",
   "name": "python",
   "nbconvert_exporter": "python",
   "pygments_lexer": "ipython3",
   "version": "3.7.9"
  }
 },
 "nbformat": 4,
 "nbformat_minor": 4
}
